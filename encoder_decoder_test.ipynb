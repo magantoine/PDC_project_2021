{
 "cells": [
  {
   "cell_type": "code",
   "execution_count": 261,
   "metadata": {},
   "outputs": [
    {
     "name": "stdout",
     "output_type": "stream",
     "text": [
      "The autoreload extension is already loaded. To reload it, use:\n",
      "  %reload_ext autoreload\n"
     ]
    }
   ],
   "source": [
    "%load_ext autoreload\n",
    "%autoreload 2\n",
    "from channel_utils import Channel\n",
    "from encoder_utils import Encoder\n",
    "from decoder_utils import Decoder\n",
    "import numpy as np"
   ]
  },
  {
   "cell_type": "code",
   "execution_count": 262,
   "metadata": {},
   "outputs": [],
   "source": [
    "L = 10 # Number of previous bits used\n",
    "N = 20 # Number of output bits per input bit"
   ]
  },
  {
   "cell_type": "code",
   "execution_count": 263,
   "metadata": {},
   "outputs": [
    {
     "name": "stdout",
     "output_type": "stream",
     "text": [
      "[[1 1 0 1 0 0 0 1 0 0 1]\n",
      " [1 0 1 1 1 1 0 0 0 1 1]\n",
      " [1 1 0 0 1 1 0 0 0 0 1]\n",
      " [1 1 0 0 0 1 0 1 1 1 1]\n",
      " [1 0 0 1 0 0 1 0 1 1 1]\n",
      " [1 0 0 0 1 0 1 0 0 1 1]\n",
      " [1 1 1 1 0 1 0 1 1 1 1]\n",
      " [1 0 0 1 1 0 0 1 0 0 1]\n",
      " [1 0 0 0 1 0 0 1 1 0 1]\n",
      " [1 0 1 0 1 0 0 1 1 1 1]\n",
      " [1 0 0 1 0 1 0 1 1 1 1]\n",
      " [1 0 1 1 0 1 1 0 0 0 1]\n",
      " [1 0 1 0 0 1 1 1 1 0 1]\n",
      " [1 1 0 0 0 0 0 0 1 1 1]\n",
      " [1 1 1 0 1 1 1 0 0 0 1]\n",
      " [1 1 0 1 1 0 0 1 0 1 1]\n",
      " [1 1 0 0 0 0 1 0 0 1 1]\n",
      " [1 0 0 1 1 0 0 0 1 1 1]\n",
      " [1 1 0 1 0 0 0 1 0 0 1]\n",
      " [1 1 1 0 1 1 1 1 1 0 1]]\n"
     ]
    }
   ],
   "source": [
    "def generate_generator_matrix():\n",
    "    \"\"\"\n",
    "    Creates the generator matrix.\n",
    "    We make sure that for each generator_polynomial (A line of the generator matrix), the first and the last bits are set to 1\n",
    "    This is because we at least want b_i and b_{i-L} to be used to use the whole range L. The remaining coefficients are chosen\n",
    "    at random as no method exists to optimally pick them deterministically.\n",
    "    \"\"\"\n",
    "    generator_matrix = np.random.choice([0, 1], size=(N, L+1))\n",
    "    generator_matrix[:,0] = 1\n",
    "    generator_matrix[:,L] = 1\n",
    "    return generator_matrix\n",
    "generator_matrix = generate_generator_matrix()\n",
    "print(generator_matrix)"
   ]
  },
  {
   "cell_type": "code",
   "execution_count": 264,
   "metadata": {},
   "outputs": [],
   "source": [
    "channel = Channel(changingIndex=True, verbose=False)\n",
    "encoder = Encoder(input_file='test.txt', output_file='encoded.txt', generator_matrix=generator_matrix, verbose=False)\n",
    "decoder = Decoder(input_file='noisy.txt', output_file='decoded.txt', generator_matrix=generator_matrix, verbose=False)"
   ]
  },
  {
   "cell_type": "code",
   "execution_count": 265,
   "metadata": {},
   "outputs": [
    {
     "name": "stdout",
     "output_type": "stream",
     "text": [
      "Original file : b'Hello world'\n",
      "\n",
      "Bits array : [0, 1, 0, 0, 1, 0, 0, 0, 0, 1, 1, 0, 0, 1, 0, 1, 0, 1, 1, 0, 1, 1, 0, 0, 0, 1, 1, 0, 1, 1, 0, 0, 0, 1, 1, 0, 1, 1, 1, 1, 0, 0, 1, 0, 0, 0, 0, 0, 0, 1, 1, 1, 0, 1, 1, 1, 0, 1, 1, 0, 1, 1, 1, 1, 0, 1, 1, 1, 0, 0, 1, 0, 0, 1, 1, 0, 1, 1, 0, 0, 0, 1, 1, 0, 0, 1, 0, 0]\n",
      "\n",
      "Hello world\n",
      "Total number of bits used : 5280\n"
     ]
    }
   ],
   "source": [
    "encoder.encode()"
   ]
  },
  {
   "cell_type": "code",
   "execution_count": 266,
   "metadata": {},
   "outputs": [
    {
     "name": "stdout",
     "output_type": "stream",
     "text": [
      "Channel sending with H value 2 :\n",
      "[-1. -1.  0. ... -1. -1.  0.]\n"
     ]
    }
   ],
   "source": [
    "channel.sendFileWithOutput(inputFileName='encoded.txt', outputFileName='noisy.txt')"
   ]
  },
  {
   "cell_type": "code",
   "execution_count": 269,
   "metadata": {},
   "outputs": [
    {
     "name": "stdout",
     "output_type": "stream",
     "text": [
      "nb_trellis_sections : 88\n",
      "Trellis height : 1024\n",
      "Trellis width  : 89\n",
      "Decoding ...\n",
      "bytearray(b'Hello world')\n"
     ]
    }
   ],
   "source": [
    "decoder.decode()"
   ]
  },
  {
   "cell_type": "code",
   "execution_count": null,
   "metadata": {},
   "outputs": [],
   "source": []
  }
 ],
 "metadata": {
  "kernelspec": {
   "display_name": "Python 3",
   "language": "python",
   "name": "python3"
  },
  "language_info": {
   "codemirror_mode": {
    "name": "ipython",
    "version": 3
   },
   "file_extension": ".py",
   "mimetype": "text/x-python",
   "name": "python",
   "nbconvert_exporter": "python",
   "pygments_lexer": "ipython3",
   "version": "3.8.7"
  },
  "varInspector": {
   "cols": {
    "lenName": 16,
    "lenType": 16,
    "lenVar": 40
   },
   "kernels_config": {
    "python": {
     "delete_cmd_postfix": "",
     "delete_cmd_prefix": "del ",
     "library": "var_list.py",
     "varRefreshCmd": "print(var_dic_list())"
    },
    "r": {
     "delete_cmd_postfix": ") ",
     "delete_cmd_prefix": "rm(",
     "library": "var_list.r",
     "varRefreshCmd": "cat(var_dic_list()) "
    }
   },
   "types_to_exclude": [
    "module",
    "function",
    "builtin_function_or_method",
    "instance",
    "_Feature"
   ],
   "window_display": false
  }
 },
 "nbformat": 4,
 "nbformat_minor": 4
}
