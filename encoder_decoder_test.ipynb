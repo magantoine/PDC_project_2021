{
 "cells": [
  {
   "cell_type": "markdown",
   "metadata": {},
   "source": [
    "# PDC Project\n",
    "## Convolutional encoding / Viterbi decoding over an AWGN + erasure channel\n",
    "### How to use :\n",
    "Replace '80char.txt' below with the file to send.\n",
    "\n",
    "Sequentially run all the cells."
   ]
  },
  {
   "cell_type": "code",
   "execution_count": 23,
   "metadata": {},
   "outputs": [
    {
     "name": "stdout",
     "output_type": "stream",
     "text": [
      "The autoreload extension is already loaded. To reload it, use:\n",
      "  %reload_ext autoreload\n"
     ]
    }
   ],
   "source": [
    "# Imports\n",
    "\n",
    "%load_ext autoreload\n",
    "%autoreload 2\n",
    "from encoder_utils import Encoder\n",
    "from decoder_utils import Decoder\n",
    "import numpy as np"
   ]
  },
  {
   "cell_type": "code",
   "execution_count": 24,
   "metadata": {},
   "outputs": [],
   "source": [
    "# Parameters\n",
    "\n",
    "L = 10 # Number of previous bits used\n",
    "N = 24 # Number of output bits per input bit"
   ]
  },
  {
   "cell_type": "code",
   "execution_count": 25,
   "metadata": {},
   "outputs": [],
   "source": [
    "# filenames\n",
    "\n",
    "original_file  = '80char.txt'                             # << Insert here the name of the file to send\n",
    "encoded_file   = 'encoded.txt'\n",
    "channel_output = 'channel_output.txt'\n",
    "decoded_file   = 'decoded.txt'"
   ]
  },
  {
   "cell_type": "code",
   "execution_count": 26,
   "metadata": {},
   "outputs": [
    {
     "name": "stdout",
     "output_type": "stream",
     "text": [
      "Generator matrix :\n",
      " [[1 1 1 0 1 0 0 0 1 1 1]\n",
      " [1 0 0 0 0 1 0 1 1 0 1]\n",
      " [1 1 1 0 1 1 1 1 0 0 1]\n",
      " [1 0 0 1 1 1 1 1 1 1 1]\n",
      " [1 0 0 1 0 0 0 0 1 1 1]\n",
      " [1 1 1 1 1 0 1 1 1 1 1]\n",
      " [1 0 1 1 0 1 0 1 0 1 1]\n",
      " [1 0 1 1 0 0 0 1 0 0 1]\n",
      " [1 0 0 0 1 1 1 0 1 1 1]\n",
      " [1 0 0 0 0 1 1 0 1 0 1]\n",
      " [1 0 1 1 0 0 0 1 0 0 1]\n",
      " [1 1 1 1 0 1 1 1 1 0 1]\n",
      " [1 1 0 1 0 0 1 0 0 0 1]\n",
      " [1 1 0 0 0 1 0 1 1 1 1]\n",
      " [1 0 1 0 0 0 1 1 1 1 1]\n",
      " [1 1 0 1 0 1 0 0 1 1 1]\n",
      " [1 0 1 0 0 0 0 1 1 1 1]\n",
      " [1 1 0 0 0 1 1 1 1 0 1]\n",
      " [1 1 1 1 0 0 1 1 1 0 1]\n",
      " [1 1 0 1 1 0 1 1 0 0 1]\n",
      " [1 1 1 1 1 0 1 1 1 0 1]\n",
      " [1 1 1 0 1 0 1 1 1 0 1]\n",
      " [1 1 0 0 1 0 0 1 0 1 1]\n",
      " [1 0 1 1 1 0 0 0 1 1 1]]\n"
     ]
    }
   ],
   "source": [
    "# Encoding-Decoding generator matrix (used by both the encoder and the decoder)\n",
    "\n",
    "def create_generator_matrix(random=True):\n",
    "    \"\"\"\n",
    "    Creates the generator matrix.\n",
    "    We make sure that for each generator_polynomial (A line of the generator matrix), the first and the last bits are set to 1\n",
    "    This is because we at least want b_i and b_{i-L} to be used to use the whole range L. The remaining coefficients are chosen\n",
    "    at random as no method exists to optimally pick them deterministically.\n",
    "    \"\"\"\n",
    "    if random:\n",
    "        generator_matrix = np.random.choice([0, 1], size=(N, L+1))\n",
    "        generator_matrix[:,0] = 1\n",
    "        generator_matrix[:,L] = 1\n",
    "    else:\n",
    "        # Matrix found to have 100% success rate over 20 trials with (L=10, N=24)\n",
    "        generator_matrix = np.array([[1, 1, 1, 0, 1, 0, 0, 0, 1, 1, 1],\n",
    "                                     [1, 0, 0, 0, 0, 1, 0, 1, 1, 0, 1],\n",
    "                                     [1, 1, 1, 0, 1, 1, 1, 1, 0, 0, 1],\n",
    "                                     [1, 0, 0, 1, 1, 1, 1, 1, 1, 1, 1],\n",
    "                                     [1, 0, 0, 1, 0, 0, 0, 0, 1, 1, 1],\n",
    "                                     [1, 1, 1, 1, 1, 0, 1, 1, 1, 1, 1],\n",
    "                                     [1, 0, 1, 1, 0, 1, 0, 1, 0, 1, 1],\n",
    "                                     [1, 0, 1, 1, 0, 0, 0, 1, 0, 0, 1],\n",
    "                                     [1, 0, 0, 0, 1, 1, 1, 0, 1, 1, 1],\n",
    "                                     [1, 0, 0, 0, 0, 1, 1, 0, 1, 0, 1],\n",
    "                                     [1, 0, 1, 1, 0, 0, 0, 1, 0, 0, 1],\n",
    "                                     [1, 1, 1, 1, 0, 1, 1, 1, 1, 0, 1],\n",
    "                                     [1, 1, 0, 1, 0, 0, 1, 0, 0, 0, 1],\n",
    "                                     [1, 1, 0, 0, 0, 1, 0, 1, 1, 1, 1],\n",
    "                                     [1, 0, 1, 0, 0, 0, 1, 1, 1, 1, 1],\n",
    "                                     [1, 1, 0, 1, 0, 1, 0, 0, 1, 1, 1],\n",
    "                                     [1, 0, 1, 0, 0, 0, 0, 1, 1, 1, 1],\n",
    "                                     [1, 1, 0, 0, 0, 1, 1, 1, 1, 0, 1],\n",
    "                                     [1, 1, 1, 1, 0, 0, 1, 1, 1, 0, 1],\n",
    "                                     [1, 1, 0, 1, 1, 0, 1, 1, 0, 0, 1],\n",
    "                                     [1, 1, 1, 1, 1, 0, 1, 1, 1, 0, 1],\n",
    "                                     [1, 1, 1, 0, 1, 0, 1, 1, 1, 0, 1],\n",
    "                                     [1, 1, 0, 0, 1, 0, 0, 1, 0, 1, 1],\n",
    "                                     [1, 0, 1, 1, 1, 0, 0, 0, 1, 1, 1]])\n",
    "    return generator_matrix\n",
    "generator_matrix = create_generator_matrix(random=False)\n",
    "print('Generator matrix :\\n', generator_matrix)"
   ]
  },
  {
   "cell_type": "code",
   "execution_count": 27,
   "metadata": {},
   "outputs": [],
   "source": [
    "# Instantiate the encoder and decoder\n",
    "\n",
    "encoder = Encoder(input_file=original_file,  output_file=encoded_file, generator_matrix=generator_matrix, verbose=False)\n",
    "decoder = Decoder(input_file=channel_output, output_file=decoded_file, generator_matrix=generator_matrix, verbose=False)"
   ]
  },
  {
   "cell_type": "code",
   "execution_count": 28,
   "metadata": {},
   "outputs": [
    {
     "name": "stdout",
     "output_type": "stream",
     "text": [
      "Original file : b'Hello world, planet, solar system all the way to A-Centuri and the entire galaxy'\n",
      "Total number of bits used : 30720\n"
     ]
    }
   ],
   "source": [
    "# Encode\n",
    "\n",
    "encoder.encode()"
   ]
  },
  {
   "cell_type": "code",
   "execution_count": 29,
   "metadata": {},
   "outputs": [],
   "source": [
    "# AWGN + erasure channel\n",
    "\n",
    "!python client.py --input_file {encoded_file} --output_file {channel_output} --srv_hostname iscsrv72.epfl.ch --srv_port 80"
   ]
  },
  {
   "cell_type": "code",
   "execution_count": 30,
   "metadata": {},
   "outputs": [
    {
     "name": "stdout",
     "output_type": "stream",
     "text": [
      "Compact_values_length : 15360\n",
      "Trellis height : 1024\n",
      "Trellis width  : 641\n",
      "Decoding ...\n",
      "bytearray(b'Hello world, planet, solar system all the way to A-Centuri and the entire galaxy')\n"
     ]
    }
   ],
   "source": [
    "# Decode\n",
    "\n",
    "decoded = decoder.decode()"
   ]
  },
  {
   "cell_type": "code",
   "execution_count": null,
   "metadata": {},
   "outputs": [],
   "source": []
  }
 ],
 "metadata": {
  "kernelspec": {
   "display_name": "Python 3",
   "language": "python",
   "name": "python3"
  },
  "language_info": {
   "codemirror_mode": {
    "name": "ipython",
    "version": 3
   },
   "file_extension": ".py",
   "mimetype": "text/x-python",
   "name": "python",
   "nbconvert_exporter": "python",
   "pygments_lexer": "ipython3",
   "version": "3.8.7"
  },
  "varInspector": {
   "cols": {
    "lenName": 16,
    "lenType": 16,
    "lenVar": 40
   },
   "kernels_config": {
    "python": {
     "delete_cmd_postfix": "",
     "delete_cmd_prefix": "del ",
     "library": "var_list.py",
     "varRefreshCmd": "print(var_dic_list())"
    },
    "r": {
     "delete_cmd_postfix": ") ",
     "delete_cmd_prefix": "rm(",
     "library": "var_list.r",
     "varRefreshCmd": "cat(var_dic_list()) "
    }
   },
   "types_to_exclude": [
    "module",
    "function",
    "builtin_function_or_method",
    "instance",
    "_Feature"
   ],
   "window_display": false
  }
 },
 "nbformat": 4,
 "nbformat_minor": 4
}
