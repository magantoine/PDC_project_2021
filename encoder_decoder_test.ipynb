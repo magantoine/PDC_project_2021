{
 "cells": [
  {
   "cell_type": "code",
   "execution_count": 21,
   "metadata": {},
   "outputs": [
    {
     "name": "stdout",
     "output_type": "stream",
     "text": [
      "The autoreload extension is already loaded. To reload it, use:\n",
      "  %reload_ext autoreload\n"
     ]
    }
   ],
   "source": [
    "%load_ext autoreload\n",
    "%autoreload 2\n",
    "from channel_utils import Channel\n",
    "from encoder_utils import Encoder\n",
    "from decoder_utils import Decoder\n",
    "import numpy as np"
   ]
  },
  {
   "cell_type": "code",
   "execution_count": 22,
   "metadata": {},
   "outputs": [],
   "source": [
    "L = 10 # Number of previous bits used\n",
    "N = 18 # Number of output bits per input bit"
   ]
  },
  {
   "cell_type": "code",
   "execution_count": 23,
   "metadata": {},
   "outputs": [],
   "source": [
    "# filenames\n",
    "original_file  = '80char.txt'\n",
    "encoded_file   = 'encoded.txt'\n",
    "channel_output = 'channel_output.txt'\n",
    "decoded_file   = 'decoded.txt'"
   ]
  },
  {
   "cell_type": "code",
   "execution_count": 24,
   "metadata": {},
   "outputs": [
    {
     "name": "stdout",
     "output_type": "stream",
     "text": [
      "Generator matrix :\n",
      " [[1 1 1 1 0 1 0 1 1 0 1]\n",
      " [1 0 0 1 1 0 1 1 0 1 1]\n",
      " [1 1 0 0 1 1 0 0 0 0 1]\n",
      " [1 0 1 1 1 0 0 1 0 0 1]\n",
      " [1 0 0 0 0 1 1 1 1 0 1]\n",
      " [1 0 0 1 0 0 0 1 0 1 1]\n",
      " [1 0 0 1 0 1 0 0 0 1 1]\n",
      " [1 1 1 1 0 0 0 1 1 1 1]\n",
      " [1 0 1 0 0 0 1 0 1 0 1]\n",
      " [1 0 1 1 1 1 1 0 1 1 1]\n",
      " [1 0 1 1 0 0 0 1 0 0 1]\n",
      " [1 1 1 0 1 1 1 0 0 1 1]\n",
      " [1 1 1 1 0 0 1 1 1 1 1]\n",
      " [1 1 0 0 0 1 1 1 0 0 1]\n",
      " [1 0 1 0 1 0 1 0 0 0 1]\n",
      " [1 1 1 1 1 0 0 0 1 0 1]\n",
      " [1 1 0 1 0 1 1 1 1 1 1]\n",
      " [1 0 1 1 1 0 1 1 0 1 1]]\n"
     ]
    }
   ],
   "source": [
    "def generate_generator_matrix():\n",
    "    \"\"\"\n",
    "    Creates the generator matrix.\n",
    "    We make sure that for each generator_polynomial (A line of the generator matrix), the first and the last bits are set to 1\n",
    "    This is because we at least want b_i and b_{i-L} to be used to use the whole range L. The remaining coefficients are chosen\n",
    "    at random as no method exists to optimally pick them deterministically.\n",
    "    \"\"\"\n",
    "    generator_matrix = np.random.choice([0, 1], size=(N, L+1))\n",
    "    generator_matrix[:,0] = 1\n",
    "    generator_matrix[:,L] = 1\n",
    "    return generator_matrix\n",
    "generator_matrix = generate_generator_matrix()\n",
    "print('Generator matrix :\\n', generator_matrix)"
   ]
  },
  {
   "cell_type": "code",
   "execution_count": 25,
   "metadata": {},
   "outputs": [],
   "source": [
    "encoder = Encoder(input_file=original_file,  output_file=encoded_file, generator_matrix=generator_matrix, verbose=False)\n",
    "decoder = Decoder(input_file=channel_output, output_file=decoded_file, generator_matrix=generator_matrix, verbose=False)"
   ]
  },
  {
   "cell_type": "code",
   "execution_count": 26,
   "metadata": {},
   "outputs": [
    {
     "name": "stdout",
     "output_type": "stream",
     "text": [
      "Original file : b'Hello world, planet, solar system all the way to A-Centuri and the entire galaxy'\n",
      "\n",
      "Hello world, planet, solar system all the way to A-Centuri and the entire galaxy\n",
      "Total number of bits used : 23040\n"
     ]
    }
   ],
   "source": [
    "# Encode\n",
    "\n",
    "encoder.encode()"
   ]
  },
  {
   "cell_type": "code",
   "execution_count": 27,
   "metadata": {},
   "outputs": [],
   "source": [
    "# AWGN + erasure channel\n",
    "\n",
    "!python client\\client.py --input_file {encoded_file} --output_file {channel_output} --srv_hostname iscsrv72.epfl.ch --srv_port 80"
   ]
  },
  {
   "cell_type": "code",
   "execution_count": 28,
   "metadata": {},
   "outputs": [
    {
     "name": "stdout",
     "output_type": "stream",
     "text": [
      "Compact_values_length : 11520\n",
      "nb_trellis_sections : 640\n",
      "Trellis height : 1024\n",
      "Trellis width  : 641\n",
      "Decoding ...\n",
      "bytearray(b'Hello world, planet, solar system all the way to A-Centuri and the entire galaxy')\n"
     ]
    }
   ],
   "source": [
    "# Decode\n",
    "\n",
    "decoder.decode()"
   ]
  },
  {
   "cell_type": "code",
   "execution_count": 6,
   "metadata": {},
   "outputs": [],
   "source": [
    "def run_all():\n",
    "    generator_matrix = generate_generator_matrix()\n",
    "    channel = Channel(changingIndex=True, verbose=False)\n",
    "    encoder = Encoder(input_file='80char.txt', output_file='encoded.txt', generator_matrix=generator_matrix, verbose=False)\n",
    "    decoder = Decoder(input_file='noisy.txt', output_file='decoded.txt', generator_matrix=generator_matrix, verbose=False)\n",
    "    encoder.encode()\n",
    "    channel.sendFileWithOutput(inputFileName='encoded.txt', outputFileName='noisy.txt')\n",
    "    decoder.decode()"
   ]
  },
  {
   "cell_type": "code",
   "execution_count": 9,
   "metadata": {},
   "outputs": [
    {
     "name": "stdout",
     "output_type": "stream",
     "text": [
      "Run 1 :\n",
      "Original file : b'Hello world, planet, solar system all the way to A-Centuri and the entire galaxy'\n",
      "\n",
      "Hello world, planet, solar system all the way to A-Centuri and the entire galaxy\n",
      "Total number of bits used : 23040\n",
      "Channel sending with H value 0 :\n",
      "[ 0. -1. -1. ...  0. -1. -1.]\n",
      "Compact_values_length : 11520\n",
      "nb_trellis_sections : 640\n",
      "Trellis height : 1024\n",
      "Trellis width  : 641\n",
      "Decoding ...\n",
      "bytearray(b'Hello world, planet, solar system all the way to A-Centuri and the entire galaxy')\n",
      "\n",
      "\n",
      "Run 2 :\n",
      "Original file : b'Hello world, planet, solar system all the way to A-Centuri and the entire galaxy'\n",
      "\n",
      "Hello world, planet, solar system all the way to A-Centuri and the entire galaxy\n",
      "Total number of bits used : 23040\n",
      "Channel sending with H value 0 :\n",
      "[ 0. -1. -1. ...  0. -1. -1.]\n",
      "Compact_values_length : 11520\n",
      "nb_trellis_sections : 640\n",
      "Trellis height : 1024\n",
      "Trellis width  : 641\n",
      "Decoding ...\n",
      "bytearray(b'Hello world, planet, solar system all the way to A-Centuri and the entire galaxy')\n",
      "\n",
      "\n",
      "Run 3 :\n",
      "Original file : b'Hello world, planet, solar system all the way to A-Centuri and the entire galaxy'\n",
      "\n",
      "Hello world, planet, solar system all the way to A-Centuri and the entire galaxy\n",
      "Total number of bits used : 23040\n",
      "Channel sending with H value 2 :\n",
      "[-1. -1.  0. ...  1.  1.  0.]\n",
      "Compact_values_length : 11520\n",
      "nb_trellis_sections : 640\n",
      "Trellis height : 1024\n",
      "Trellis width  : 641\n",
      "Decoding ...\n",
      "bytearray(b'Hello world, planet, solar system all the way to A-Centuri and the entire galaxy')\n",
      "\n",
      "\n",
      "Run 4 :\n",
      "Original file : b'Hello world, planet, solar system all the way to A-Centuri and the entire galaxy'\n",
      "\n",
      "Hello world, planet, solar system all the way to A-Centuri and the entire galaxy\n",
      "Total number of bits used : 23040\n",
      "Channel sending with H value 0 :\n",
      "[ 0. -1. -1. ...  0. -1. -1.]\n",
      "Compact_values_length : 11520\n",
      "nb_trellis_sections : 640\n",
      "Trellis height : 1024\n",
      "Trellis width  : 641\n",
      "Decoding ...\n",
      "bytearray(b'Hello world, planet, solar system all the way to A-Centuri and the entire galaxy')\n",
      "\n",
      "\n",
      "Run 5 :\n",
      "Original file : b'Hello world, planet, solar system all the way to A-Centuri and the entire galaxy'\n",
      "\n",
      "Hello world, planet, solar system all the way to A-Centuri and the entire galaxy\n",
      "Total number of bits used : 23040\n",
      "Channel sending with H value 0 :\n",
      "[ 0. -1. -1. ...  0.  1.  1.]\n",
      "Compact_values_length : 11520\n",
      "nb_trellis_sections : 640\n",
      "Trellis height : 1024\n",
      "Trellis width  : 641\n",
      "Decoding ...\n",
      "bytearray(b'Hello world, planet, solar system all the way to A-Centuri and the entire gao\\xf7\\xcb\\x06')\n",
      "\n",
      "\n",
      "Run 6 :\n",
      "Original file : b'Hello world, planet, solar system all the way to A-Centuri and the entire galaxy'\n",
      "\n",
      "Hello world, planet, solar system all the way to A-Centuri and the entire galaxy\n",
      "Total number of bits used : 23040\n",
      "Channel sending with H value 2 :\n",
      "[-1. -1.  0. ...  1.  1.  0.]\n",
      "Compact_values_length : 11520\n",
      "nb_trellis_sections : 640\n",
      "Trellis height : 1024\n",
      "Trellis width  : 641\n",
      "Decoding ...\n",
      "bytearray(b'Hello world, planet, solar system all the way to A-Centuri and the entire galaxx')\n",
      "\n",
      "\n",
      "Run 7 :\n",
      "Original file : b'Hello world, planet, solar system all the way to A-Centuri and the entire galaxy'\n",
      "\n",
      "Hello world, planet, solar system all the way to A-Centuri and the entire galaxy\n",
      "Total number of bits used : 23040\n",
      "Channel sending with H value 0 :\n",
      "[ 0. -1. -1. ...  0. -1. -1.]\n",
      "Compact_values_length : 11520\n",
      "nb_trellis_sections : 640\n",
      "Trellis height : 1024\n",
      "Trellis width  : 641\n",
      "Decoding ...\n",
      "bytearray(b'Hello world, planet, solar system all the way to A-Centuri and the entire galaxy')\n",
      "\n",
      "\n",
      "Run 8 :\n",
      "Original file : b'Hello world, planet, solar system all the way to A-Centuri and the entire galaxy'\n",
      "\n",
      "Hello world, planet, solar system all the way to A-Centuri and the entire galaxy\n",
      "Total number of bits used : 23040\n",
      "Channel sending with H value 2 :\n",
      "[-1. -1.  0. ...  1. -1.  0.]\n",
      "Compact_values_length : 11520\n",
      "nb_trellis_sections : 640\n",
      "Trellis height : 1024\n",
      "Trellis width  : 641\n",
      "Decoding ...\n",
      "bytearray(b'Hello world, planet, solar system all the way to A-Centuri and the entire galaxy')\n",
      "\n",
      "\n",
      "Run 9 :\n",
      "Original file : b'Hello world, planet, solar system all the way to A-Centuri and the entire galaxy'\n",
      "\n",
      "Hello world, planet, solar system all the way to A-Centuri and the entire galaxy\n",
      "Total number of bits used : 23040\n",
      "Channel sending with H value 1 :\n",
      "[-1.  0. -1. ...  1.  0. -1.]\n",
      "Compact_values_length : 11520\n",
      "nb_trellis_sections : 640\n",
      "Trellis height : 1024\n",
      "Trellis width  : 641\n",
      "Decoding ...\n",
      "bytearray(b'Hello world, planet,+\\x13olar system all the way to A-Centuri and the entire galaxy')\n",
      "\n",
      "\n",
      "Run 10 :\n",
      "Original file : b'Hello world, planet, solar system all the way to A-Centuri and the entire galaxy'\n",
      "\n",
      "Hello world, planet, solar system all the way to A-Centuri and the entire galaxy\n",
      "Total number of bits used : 23040\n",
      "Channel sending with H value 1 :\n",
      "[-1.  0. -1. ... -1.  0. -1.]\n",
      "Compact_values_length : 11520\n",
      "nb_trellis_sections : 640\n",
      "Trellis height : 1024\n",
      "Trellis width  : 641\n",
      "Decoding ...\n",
      "bytearray(b'Hello world, planet, solar system all the way to A-Centuri and the entire galaxy')\n",
      "\n",
      "\n"
     ]
    }
   ],
   "source": [
    "for i in range(10):\n",
    "    print(f'Run {i+1} :')\n",
    "    run_all()\n",
    "    print()\n",
    "    print()"
   ]
  },
  {
   "cell_type": "code",
   "execution_count": null,
   "metadata": {},
   "outputs": [],
   "source": []
  }
 ],
 "metadata": {
  "kernelspec": {
   "display_name": "Python 3",
   "language": "python",
   "name": "python3"
  },
  "language_info": {
   "codemirror_mode": {
    "name": "ipython",
    "version": 3
   },
   "file_extension": ".py",
   "mimetype": "text/x-python",
   "name": "python",
   "nbconvert_exporter": "python",
   "pygments_lexer": "ipython3",
   "version": "3.8.7"
  },
  "varInspector": {
   "cols": {
    "lenName": 16,
    "lenType": 16,
    "lenVar": 40
   },
   "kernels_config": {
    "python": {
     "delete_cmd_postfix": "",
     "delete_cmd_prefix": "del ",
     "library": "var_list.py",
     "varRefreshCmd": "print(var_dic_list())"
    },
    "r": {
     "delete_cmd_postfix": ") ",
     "delete_cmd_prefix": "rm(",
     "library": "var_list.r",
     "varRefreshCmd": "cat(var_dic_list()) "
    }
   },
   "types_to_exclude": [
    "module",
    "function",
    "builtin_function_or_method",
    "instance",
    "_Feature"
   ],
   "window_display": false
  }
 },
 "nbformat": 4,
 "nbformat_minor": 4
}
